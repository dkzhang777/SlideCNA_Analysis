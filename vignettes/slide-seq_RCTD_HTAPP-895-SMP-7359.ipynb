{
 "cells": [
  {
   "cell_type": "markdown",
   "metadata": {},
   "source": [
    "### RCTD Annotation of Cell Types\n",
    "Benchmarking for this notebook:\n",
    " - Processors: 8 x AMD EPYC 7542 32-Core\n",
    " - Runtime: 00:57:22 (hh:mm:ss)\n",
    " - Memory utilized: 31.17 GB"
   ]
  },
  {
   "cell_type": "markdown",
   "metadata": {},
   "source": [
    "#### HTAPP-895-SMP-7359"
   ]
  },
  {
   "cell_type": "code",
   "execution_count": 1,
   "metadata": {
    "tags": []
   },
   "outputs": [],
   "source": [
    "# Set paths to data and result\n",
    "path_to_data <- \"path/to/data/\" \n",
    "path_to_results <- \"path/to/results/\"\n",
    "RCTD_dir <- \"path/to/RCTD_results\""
   ]
  },
  {
   "cell_type": "code",
   "execution_count": 2,
   "metadata": {
    "collapsed": true,
    "jupyter": {
     "outputs_hidden": true
    },
    "tags": []
   },
   "outputs": [
    {
     "data": {
      "text/html": [
       "<ol>\n",
       "\t<li>TRUE</li>\n",
       "\t<li>TRUE</li>\n",
       "\t<li>TRUE</li>\n",
       "\t<li>TRUE</li>\n",
       "\t<li>TRUE</li>\n",
       "\t<li>TRUE</li>\n",
       "\t<li>TRUE</li>\n",
       "\t<li>TRUE</li>\n",
       "\t<li>TRUE</li>\n",
       "\t<li>TRUE</li>\n",
       "\t<li>TRUE</li>\n",
       "</ol>\n"
      ],
      "text/latex": [
       "\\begin{enumerate}\n",
       "\\item TRUE\n",
       "\\item TRUE\n",
       "\\item TRUE\n",
       "\\item TRUE\n",
       "\\item TRUE\n",
       "\\item TRUE\n",
       "\\item TRUE\n",
       "\\item TRUE\n",
       "\\item TRUE\n",
       "\\item TRUE\n",
       "\\item TRUE\n",
       "\\end{enumerate}\n"
      ],
      "text/markdown": [
       "1. TRUE\n",
       "2. TRUE\n",
       "3. TRUE\n",
       "4. TRUE\n",
       "5. TRUE\n",
       "6. TRUE\n",
       "7. TRUE\n",
       "8. TRUE\n",
       "9. TRUE\n",
       "10. TRUE\n",
       "11. TRUE\n",
       "\n",
       "\n"
      ],
      "text/plain": [
       "[[1]]\n",
       "[1] TRUE\n",
       "\n",
       "[[2]]\n",
       "[1] TRUE\n",
       "\n",
       "[[3]]\n",
       "[1] TRUE\n",
       "\n",
       "[[4]]\n",
       "[1] TRUE\n",
       "\n",
       "[[5]]\n",
       "[1] TRUE\n",
       "\n",
       "[[6]]\n",
       "[1] TRUE\n",
       "\n",
       "[[7]]\n",
       "[1] TRUE\n",
       "\n",
       "[[8]]\n",
       "[1] TRUE\n",
       "\n",
       "[[9]]\n",
       "[1] TRUE\n",
       "\n",
       "[[10]]\n",
       "[1] TRUE\n",
       "\n",
       "[[11]]\n",
       "[1] TRUE\n"
      ]
     },
     "metadata": {},
     "output_type": "display_data"
    }
   ],
   "source": [
    "libraries <- c(\"ggplot2\", \"Seurat\", \"glue\", \"dplyr\", \"anndata\", \"spacexr\", \n",
    "               \"data.table\", \"Matrix\", \"mltools\", \"enrichR\", \"R.utils\")\n",
    "lapply(libraries, function(x) suppressMessages(require(x, character.only = TRUE,quietly=TRUE,warn.conflicts = FALSE)))"
   ]
  },
  {
   "cell_type": "code",
   "execution_count": 3,
   "metadata": {
    "tags": []
   },
   "outputs": [],
   "source": [
    "sample <- \"HTAPP-895-SMP-7359\""
   ]
  },
  {
   "cell_type": "code",
   "execution_count": 5,
   "metadata": {
    "tags": []
   },
   "outputs": [],
   "source": [
    "# Assumes you're working in the repository root directory\n",
    "source(\"code/RCTD.R\")\n",
    "source(\"code/utils.R\")"
   ]
  },
  {
   "cell_type": "markdown",
   "metadata": {
    "tags": []
   },
   "source": [
    "#### RCTD"
   ]
  },
  {
   "cell_type": "code",
   "execution_count": 6,
   "metadata": {
    "tags": []
   },
   "outputs": [],
   "source": [
    "#library(reticulate)\n",
    "#use_condaenv(condaenv = \"SlideCNA_env\") #if error, set conda environment manually for reticulate"
   ]
  },
  {
   "cell_type": "code",
   "execution_count": 7,
   "metadata": {
    "tags": []
   },
   "outputs": [],
   "source": [
    "# Inputs needed:\n",
    "# reference (sn/scRNA-seq): counts, cell types\n",
    "# Slide-seq: counts, bead meta data, bead coordinates"
   ]
  },
  {
   "cell_type": "code",
   "execution_count": 13,
   "metadata": {
    "tags": []
   },
   "outputs": [],
   "source": [
    "# Read in reference data\n",
    "sn_counts <- read.table(paste0(path_to_data, sample, \"_scRNA-seq_counts.txt\"), check.names = FALSE)\n",
    "sn_cell_types <- read.table(paste0(path_to_data, sample, \"_scRNA-seq_cell_types.txt\"))"
   ]
  },
  {
   "cell_type": "code",
   "execution_count": 14,
   "metadata": {
    "tags": []
   },
   "outputs": [],
   "source": [
    "# Read in Slide-seq data\n",
    "counts <- read.table(paste0(path_to_data, sample, \"_slide-seq_counts.txt\"), check.names = FALSE)\n",
    "beads <- read.table(paste0(path_to_data, sample, \"_slide-seq_beads.txt\"), check.names = FALSE)\n",
    "coords <- read.table(paste0(path_to_data, sample, \"_slide-seq_coords.txt\"), check.names = FALSE)"
   ]
  },
  {
   "cell_type": "code",
   "execution_count": 9,
   "metadata": {
    "tags": []
   },
   "outputs": [],
   "source": [
    "# Reformat to a named vector\n",
    "sn_cell_types <- tibble::deframe(sn_cell_types) %>% \n",
    "                 setNames(rownames(sn_cell_types)) %>% \n",
    "                 as.factor()"
   ]
  },
  {
   "cell_type": "code",
   "execution_count": 10,
   "metadata": {
    "tags": []
   },
   "outputs": [],
   "source": [
    "# Calculate the # of UMI per nucleus/bead\n",
    "sn_nUMI <- colSums(sn_counts)\n",
    "nUMI <- colSums(counts)"
   ]
  },
  {
   "cell_type": "code",
   "execution_count": 11,
   "metadata": {
    "tags": []
   },
   "outputs": [
    {
     "data": {
      "text/html": [
       "<table class=\"dataframe\">\n",
       "<caption>A data.frame: 5 x 5</caption>\n",
       "<thead>\n",
       "\t<tr><th></th><th scope=col>HTAPP-895-SMP-7359-TST-channel1_AACCAACGTAATGCTC-1</th><th scope=col>HTAPP-895-SMP-7359-TST-channel1_GATCAGTTCTTACCGC-1</th><th scope=col>HTAPP-895-SMP-7359-TST-channel1_TGGTACAGTATGCTTG-1</th><th scope=col>HTAPP-895-SMP-7359-TST-channel1_CATGCTCCACGACCTG-1</th><th scope=col>HTAPP-895-SMP-7359-TST-channel1_CACGAATAGGTAATCA-1</th></tr>\n",
       "\t<tr><th></th><th scope=col>&lt;int&gt;</th><th scope=col>&lt;int&gt;</th><th scope=col>&lt;int&gt;</th><th scope=col>&lt;int&gt;</th><th scope=col>&lt;int&gt;</th></tr>\n",
       "</thead>\n",
       "<tbody>\n",
       "\t<tr><th scope=row>MIR1302-2HG</th><td>0</td><td>0</td><td>0</td><td>0</td><td>0</td></tr>\n",
       "\t<tr><th scope=row>AL627309.1</th><td>0</td><td>0</td><td>0</td><td>0</td><td>0</td></tr>\n",
       "\t<tr><th scope=row>AC114498.1</th><td>0</td><td>0</td><td>0</td><td>0</td><td>0</td></tr>\n",
       "\t<tr><th scope=row>AL669831.5</th><td>2</td><td>1</td><td>2</td><td>1</td><td>1</td></tr>\n",
       "\t<tr><th scope=row>FAM87B</th><td>0</td><td>0</td><td>0</td><td>0</td><td>0</td></tr>\n",
       "</tbody>\n",
       "</table>\n"
      ],
      "text/latex": [
       "A data.frame: 5 x 5\n",
       "\\begin{tabular}{r|lllll}\n",
       "  & HTAPP-895-SMP-7359-TST-channel1\\_AACCAACGTAATGCTC-1 & HTAPP-895-SMP-7359-TST-channel1\\_GATCAGTTCTTACCGC-1 & HTAPP-895-SMP-7359-TST-channel1\\_TGGTACAGTATGCTTG-1 & HTAPP-895-SMP-7359-TST-channel1\\_CATGCTCCACGACCTG-1 & HTAPP-895-SMP-7359-TST-channel1\\_CACGAATAGGTAATCA-1\\\\\n",
       "  & <int> & <int> & <int> & <int> & <int>\\\\\n",
       "\\hline\n",
       "\tMIR1302-2HG & 0 & 0 & 0 & 0 & 0\\\\\n",
       "\tAL627309.1 & 0 & 0 & 0 & 0 & 0\\\\\n",
       "\tAC114498.1 & 0 & 0 & 0 & 0 & 0\\\\\n",
       "\tAL669831.5 & 2 & 1 & 2 & 1 & 1\\\\\n",
       "\tFAM87B & 0 & 0 & 0 & 0 & 0\\\\\n",
       "\\end{tabular}\n"
      ],
      "text/markdown": [
       "\n",
       "A data.frame: 5 x 5\n",
       "\n",
       "| <!--/--> | HTAPP-895-SMP-7359-TST-channel1_AACCAACGTAATGCTC-1 &lt;int&gt; | HTAPP-895-SMP-7359-TST-channel1_GATCAGTTCTTACCGC-1 &lt;int&gt; | HTAPP-895-SMP-7359-TST-channel1_TGGTACAGTATGCTTG-1 &lt;int&gt; | HTAPP-895-SMP-7359-TST-channel1_CATGCTCCACGACCTG-1 &lt;int&gt; | HTAPP-895-SMP-7359-TST-channel1_CACGAATAGGTAATCA-1 &lt;int&gt; |\n",
       "|---|---|---|---|---|---|\n",
       "| MIR1302-2HG | 0 | 0 | 0 | 0 | 0 |\n",
       "| AL627309.1 | 0 | 0 | 0 | 0 | 0 |\n",
       "| AC114498.1 | 0 | 0 | 0 | 0 | 0 |\n",
       "| AL669831.5 | 2 | 1 | 2 | 1 | 1 |\n",
       "| FAM87B | 0 | 0 | 0 | 0 | 0 |\n",
       "\n"
      ],
      "text/plain": [
       "            HTAPP-895-SMP-7359-TST-channel1_AACCAACGTAATGCTC-1\n",
       "MIR1302-2HG 0                                                 \n",
       "AL627309.1  0                                                 \n",
       "AC114498.1  0                                                 \n",
       "AL669831.5  2                                                 \n",
       "FAM87B      0                                                 \n",
       "            HTAPP-895-SMP-7359-TST-channel1_GATCAGTTCTTACCGC-1\n",
       "MIR1302-2HG 0                                                 \n",
       "AL627309.1  0                                                 \n",
       "AC114498.1  0                                                 \n",
       "AL669831.5  1                                                 \n",
       "FAM87B      0                                                 \n",
       "            HTAPP-895-SMP-7359-TST-channel1_TGGTACAGTATGCTTG-1\n",
       "MIR1302-2HG 0                                                 \n",
       "AL627309.1  0                                                 \n",
       "AC114498.1  0                                                 \n",
       "AL669831.5  2                                                 \n",
       "FAM87B      0                                                 \n",
       "            HTAPP-895-SMP-7359-TST-channel1_CATGCTCCACGACCTG-1\n",
       "MIR1302-2HG 0                                                 \n",
       "AL627309.1  0                                                 \n",
       "AC114498.1  0                                                 \n",
       "AL669831.5  1                                                 \n",
       "FAM87B      0                                                 \n",
       "            HTAPP-895-SMP-7359-TST-channel1_CACGAATAGGTAATCA-1\n",
       "MIR1302-2HG 0                                                 \n",
       "AL627309.1  0                                                 \n",
       "AC114498.1  0                                                 \n",
       "AL669831.5  1                                                 \n",
       "FAM87B      0                                                 "
      ]
     },
     "metadata": {},
     "output_type": "display_data"
    }
   ],
   "source": [
    "# data.frame of reference counts genes x cells/nuclei\n",
    "sn_counts[1:5,1:5]"
   ]
  },
  {
   "cell_type": "code",
   "execution_count": 12,
   "metadata": {
    "tags": []
   },
   "outputs": [
    {
     "data": {
      "text/html": [
       "<style>\n",
       ".dl-inline {width: auto; margin:0; padding: 0}\n",
       ".dl-inline>dt, .dl-inline>dd {float: none; width: auto; display: inline-block}\n",
       ".dl-inline>dt::after {content: \":\\0020\"; padding-right: .5ex}\n",
       ".dl-inline>dt:not(:first-of-type) {padding-left: .5ex}\n",
       "</style><dl class=dl-inline><dt>HTAPP-895-SMP-7359-TST-channel1_AACCAACGTAATGCTC-1</dt><dd>MBC</dd><dt>HTAPP-895-SMP-7359-TST-channel1_GATCAGTTCTTACCGC-1</dt><dd>MBC</dd><dt>HTAPP-895-SMP-7359-TST-channel1_TGGTACAGTATGCTTG-1</dt><dd>MBC</dd><dt>HTAPP-895-SMP-7359-TST-channel1_CATGCTCCACGACCTG-1</dt><dd>MBC</dd><dt>HTAPP-895-SMP-7359-TST-channel1_CACGAATAGGTAATCA-1</dt><dd>MBC</dd><dt>HTAPP-895-SMP-7359-TST-channel1_TATGTTCTCACCTCAC-1</dt><dd>MBC</dd></dl>\n",
       "\n",
       "<details>\n",
       "\t<summary style=display:list-item;cursor:pointer>\n",
       "\t\t<strong>Levels</strong>:\n",
       "\t</summary>\n",
       "\t<style>\n",
       "\t.list-inline {list-style: none; margin:0; padding: 0}\n",
       "\t.list-inline>li {display: inline-block}\n",
       "\t.list-inline>li:not(:last-child)::after {content: \"\\00b7\"; padding: 0 .5ex}\n",
       "\t</style>\n",
       "\t<ol class=list-inline><li>'B'</li><li>'B_plasma'</li><li>'Endothelial_vascular'</li><li>'Fibroblast'</li><li>'MBC'</li><li>'Macrophage'</li><li>'NK'</li><li>'Smooth muscle_vascular'</li><li>'T'</li></ol>\n",
       "</details>"
      ],
      "text/latex": [
       "\\begin{description*}\n",
       "\\item[HTAPP-895-SMP-7359-TST-channel1\\textbackslash{}\\_AACCAACGTAATGCTC-1] MBC\n",
       "\\item[HTAPP-895-SMP-7359-TST-channel1\\textbackslash{}\\_GATCAGTTCTTACCGC-1] MBC\n",
       "\\item[HTAPP-895-SMP-7359-TST-channel1\\textbackslash{}\\_TGGTACAGTATGCTTG-1] MBC\n",
       "\\item[HTAPP-895-SMP-7359-TST-channel1\\textbackslash{}\\_CATGCTCCACGACCTG-1] MBC\n",
       "\\item[HTAPP-895-SMP-7359-TST-channel1\\textbackslash{}\\_CACGAATAGGTAATCA-1] MBC\n",
       "\\item[HTAPP-895-SMP-7359-TST-channel1\\textbackslash{}\\_TATGTTCTCACCTCAC-1] MBC\n",
       "\\end{description*}\n",
       "\n",
       "\\emph{Levels}: \\begin{enumerate*}\n",
       "\\item 'B'\n",
       "\\item 'B\\_plasma'\n",
       "\\item 'Endothelial\\_vascular'\n",
       "\\item 'Fibroblast'\n",
       "\\item 'MBC'\n",
       "\\item 'Macrophage'\n",
       "\\item 'NK'\n",
       "\\item 'Smooth muscle\\_vascular'\n",
       "\\item 'T'\n",
       "\\end{enumerate*}\n"
      ],
      "text/markdown": [
       "HTAPP-895-SMP-7359-TST-channel1_AACCAACGTAATGCTC-1\n",
       ":   MBCHTAPP-895-SMP-7359-TST-channel1_GATCAGTTCTTACCGC-1\n",
       ":   MBCHTAPP-895-SMP-7359-TST-channel1_TGGTACAGTATGCTTG-1\n",
       ":   MBCHTAPP-895-SMP-7359-TST-channel1_CATGCTCCACGACCTG-1\n",
       ":   MBCHTAPP-895-SMP-7359-TST-channel1_CACGAATAGGTAATCA-1\n",
       ":   MBCHTAPP-895-SMP-7359-TST-channel1_TATGTTCTCACCTCAC-1\n",
       ":   MBC\n",
       "\n",
       "\n",
       "**Levels**: 1. 'B'\n",
       "2. 'B_plasma'\n",
       "3. 'Endothelial_vascular'\n",
       "4. 'Fibroblast'\n",
       "5. 'MBC'\n",
       "6. 'Macrophage'\n",
       "7. 'NK'\n",
       "8. 'Smooth muscle_vascular'\n",
       "9. 'T'\n",
       "\n",
       "\n"
      ],
      "text/plain": [
       "HTAPP-895-SMP-7359-TST-channel1_AACCAACGTAATGCTC-1 \n",
       "                                               MBC \n",
       "HTAPP-895-SMP-7359-TST-channel1_GATCAGTTCTTACCGC-1 \n",
       "                                               MBC \n",
       "HTAPP-895-SMP-7359-TST-channel1_TGGTACAGTATGCTTG-1 \n",
       "                                               MBC \n",
       "HTAPP-895-SMP-7359-TST-channel1_CATGCTCCACGACCTG-1 \n",
       "                                               MBC \n",
       "HTAPP-895-SMP-7359-TST-channel1_CACGAATAGGTAATCA-1 \n",
       "                                               MBC \n",
       "HTAPP-895-SMP-7359-TST-channel1_TATGTTCTCACCTCAC-1 \n",
       "                                               MBC \n",
       "9 Levels: B B_plasma Endothelial_vascular Fibroblast MBC Macrophage ... T"
      ]
     },
     "metadata": {},
     "output_type": "display_data"
    }
   ],
   "source": [
    "# vector of cell types labeled by cell/nucleus\n",
    "head(sn_cell_types)"
   ]
  },
  {
   "cell_type": "code",
   "execution_count": 13,
   "metadata": {
    "tags": []
   },
   "outputs": [
    {
     "data": {
      "text/html": [
       "<style>\n",
       ".dl-inline {width: auto; margin:0; padding: 0}\n",
       ".dl-inline>dt, .dl-inline>dd {float: none; width: auto; display: inline-block}\n",
       ".dl-inline>dt::after {content: \":\\0020\"; padding-right: .5ex}\n",
       ".dl-inline>dt:not(:first-of-type) {padding-left: .5ex}\n",
       "</style><dl class=dl-inline><dt>HTAPP-895-SMP-7359-TST-channel1_AACCAACGTAATGCTC-1</dt><dd>18898</dd><dt>HTAPP-895-SMP-7359-TST-channel1_GATCAGTTCTTACCGC-1</dt><dd>19307</dd><dt>HTAPP-895-SMP-7359-TST-channel1_TGGTACAGTATGCTTG-1</dt><dd>18535</dd><dt>HTAPP-895-SMP-7359-TST-channel1_CATGCTCCACGACCTG-1</dt><dd>19107</dd><dt>HTAPP-895-SMP-7359-TST-channel1_CACGAATAGGTAATCA-1</dt><dd>19976</dd><dt>HTAPP-895-SMP-7359-TST-channel1_TATGTTCTCACCTCAC-1</dt><dd>19827</dd></dl>\n"
      ],
      "text/latex": [
       "\\begin{description*}\n",
       "\\item[HTAPP-895-SMP-7359-TST-channel1\\textbackslash{}\\_AACCAACGTAATGCTC-1] 18898\n",
       "\\item[HTAPP-895-SMP-7359-TST-channel1\\textbackslash{}\\_GATCAGTTCTTACCGC-1] 19307\n",
       "\\item[HTAPP-895-SMP-7359-TST-channel1\\textbackslash{}\\_TGGTACAGTATGCTTG-1] 18535\n",
       "\\item[HTAPP-895-SMP-7359-TST-channel1\\textbackslash{}\\_CATGCTCCACGACCTG-1] 19107\n",
       "\\item[HTAPP-895-SMP-7359-TST-channel1\\textbackslash{}\\_CACGAATAGGTAATCA-1] 19976\n",
       "\\item[HTAPP-895-SMP-7359-TST-channel1\\textbackslash{}\\_TATGTTCTCACCTCAC-1] 19827\n",
       "\\end{description*}\n"
      ],
      "text/markdown": [
       "HTAPP-895-SMP-7359-TST-channel1_AACCAACGTAATGCTC-1\n",
       ":   18898HTAPP-895-SMP-7359-TST-channel1_GATCAGTTCTTACCGC-1\n",
       ":   19307HTAPP-895-SMP-7359-TST-channel1_TGGTACAGTATGCTTG-1\n",
       ":   18535HTAPP-895-SMP-7359-TST-channel1_CATGCTCCACGACCTG-1\n",
       ":   19107HTAPP-895-SMP-7359-TST-channel1_CACGAATAGGTAATCA-1\n",
       ":   19976HTAPP-895-SMP-7359-TST-channel1_TATGTTCTCACCTCAC-1\n",
       ":   19827\n",
       "\n"
      ],
      "text/plain": [
       "HTAPP-895-SMP-7359-TST-channel1_AACCAACGTAATGCTC-1 \n",
       "                                             18898 \n",
       "HTAPP-895-SMP-7359-TST-channel1_GATCAGTTCTTACCGC-1 \n",
       "                                             19307 \n",
       "HTAPP-895-SMP-7359-TST-channel1_TGGTACAGTATGCTTG-1 \n",
       "                                             18535 \n",
       "HTAPP-895-SMP-7359-TST-channel1_CATGCTCCACGACCTG-1 \n",
       "                                             19107 \n",
       "HTAPP-895-SMP-7359-TST-channel1_CACGAATAGGTAATCA-1 \n",
       "                                             19976 \n",
       "HTAPP-895-SMP-7359-TST-channel1_TATGTTCTCACCTCAC-1 \n",
       "                                             19827 "
      ]
     },
     "metadata": {},
     "output_type": "display_data"
    }
   ],
   "source": [
    "# vector of nUMIs labeled by cell/nucleus\n",
    "head(sn_nUMI)"
   ]
  },
  {
   "cell_type": "code",
   "execution_count": 14,
   "metadata": {
    "tags": []
   },
   "outputs": [
    {
     "data": {
      "text/html": [
       "<table class=\"dataframe\">\n",
       "<caption>A data.frame: 5 x 5</caption>\n",
       "<thead>\n",
       "\t<tr><th></th><th scope=col>TCATATACTGTTGT-1</th><th scope=col>TACTTTCAGGACTG-1</th><th scope=col>AACCCAAGTTAGGG-1</th><th scope=col>ACTCAGGCCTCCAC-1</th><th scope=col>TTCGCTCCACACTT-1</th></tr>\n",
       "\t<tr><th></th><th scope=col>&lt;int&gt;</th><th scope=col>&lt;int&gt;</th><th scope=col>&lt;int&gt;</th><th scope=col>&lt;int&gt;</th><th scope=col>&lt;int&gt;</th></tr>\n",
       "</thead>\n",
       "<tbody>\n",
       "\t<tr><th scope=row>A1BG</th><td>0</td><td>0</td><td>0</td><td>0</td><td>0</td></tr>\n",
       "\t<tr><th scope=row>A1BG-AS1</th><td>0</td><td>0</td><td>0</td><td>0</td><td>0</td></tr>\n",
       "\t<tr><th scope=row>A2M</th><td>0</td><td>0</td><td>1</td><td>0</td><td>2</td></tr>\n",
       "\t<tr><th scope=row>A2M-AS1</th><td>0</td><td>0</td><td>0</td><td>0</td><td>0</td></tr>\n",
       "\t<tr><th scope=row>A2ML1</th><td>0</td><td>0</td><td>0</td><td>0</td><td>0</td></tr>\n",
       "</tbody>\n",
       "</table>\n"
      ],
      "text/latex": [
       "A data.frame: 5 x 5\n",
       "\\begin{tabular}{r|lllll}\n",
       "  & TCATATACTGTTGT-1 & TACTTTCAGGACTG-1 & AACCCAAGTTAGGG-1 & ACTCAGGCCTCCAC-1 & TTCGCTCCACACTT-1\\\\\n",
       "  & <int> & <int> & <int> & <int> & <int>\\\\\n",
       "\\hline\n",
       "\tA1BG & 0 & 0 & 0 & 0 & 0\\\\\n",
       "\tA1BG-AS1 & 0 & 0 & 0 & 0 & 0\\\\\n",
       "\tA2M & 0 & 0 & 1 & 0 & 2\\\\\n",
       "\tA2M-AS1 & 0 & 0 & 0 & 0 & 0\\\\\n",
       "\tA2ML1 & 0 & 0 & 0 & 0 & 0\\\\\n",
       "\\end{tabular}\n"
      ],
      "text/markdown": [
       "\n",
       "A data.frame: 5 x 5\n",
       "\n",
       "| <!--/--> | TCATATACTGTTGT-1 &lt;int&gt; | TACTTTCAGGACTG-1 &lt;int&gt; | AACCCAAGTTAGGG-1 &lt;int&gt; | ACTCAGGCCTCCAC-1 &lt;int&gt; | TTCGCTCCACACTT-1 &lt;int&gt; |\n",
       "|---|---|---|---|---|---|\n",
       "| A1BG | 0 | 0 | 0 | 0 | 0 |\n",
       "| A1BG-AS1 | 0 | 0 | 0 | 0 | 0 |\n",
       "| A2M | 0 | 0 | 1 | 0 | 2 |\n",
       "| A2M-AS1 | 0 | 0 | 0 | 0 | 0 |\n",
       "| A2ML1 | 0 | 0 | 0 | 0 | 0 |\n",
       "\n"
      ],
      "text/plain": [
       "         TCATATACTGTTGT-1 TACTTTCAGGACTG-1 AACCCAAGTTAGGG-1 ACTCAGGCCTCCAC-1\n",
       "A1BG     0                0                0                0               \n",
       "A1BG-AS1 0                0                0                0               \n",
       "A2M      0                0                1                0               \n",
       "A2M-AS1  0                0                0                0               \n",
       "A2ML1    0                0                0                0               \n",
       "         TTCGCTCCACACTT-1\n",
       "A1BG     0               \n",
       "A1BG-AS1 0               \n",
       "A2M      2               \n",
       "A2M-AS1  0               \n",
       "A2ML1    0               "
      ]
     },
     "metadata": {},
     "output_type": "display_data"
    }
   ],
   "source": [
    "# data.frame of Slide-seq counts genes x beads\n",
    "counts[1:5,1:5]"
   ]
  },
  {
   "cell_type": "code",
   "execution_count": 15,
   "metadata": {
    "tags": []
   },
   "outputs": [
    {
     "data": {
      "text/html": [
       "<table class=\"dataframe\">\n",
       "<caption>A data.frame: 6 x 2</caption>\n",
       "<thead>\n",
       "\t<tr><th></th><th scope=col>xcoord</th><th scope=col>ycoord</th></tr>\n",
       "\t<tr><th></th><th scope=col>&lt;dbl&gt;</th><th scope=col>&lt;dbl&gt;</th></tr>\n",
       "</thead>\n",
       "<tbody>\n",
       "\t<tr><th scope=row>TCATATACTGTTGT-1</th><td> 573.4835</td><td>1325.0195</td></tr>\n",
       "\t<tr><th scope=row>TACTTTCAGGACTG-1</th><td> 553.3513</td><td>1388.4575</td></tr>\n",
       "\t<tr><th scope=row>AACCCAAGTTAGGG-1</th><td> 857.6451</td><td>1081.8535</td></tr>\n",
       "\t<tr><th scope=row>ACTCAGGCCTCCAC-1</th><td> 898.0179</td><td>1044.6019</td></tr>\n",
       "\t<tr><th scope=row>TTCGCTCCACACTT-1</th><td>1220.1276</td><td> 701.8704</td></tr>\n",
       "\t<tr><th scope=row>TATGCGGTCGACAA-1</th><td> 694.5063</td><td>1551.9726</td></tr>\n",
       "</tbody>\n",
       "</table>\n"
      ],
      "text/latex": [
       "A data.frame: 6 x 2\n",
       "\\begin{tabular}{r|ll}\n",
       "  & xcoord & ycoord\\\\\n",
       "  & <dbl> & <dbl>\\\\\n",
       "\\hline\n",
       "\tTCATATACTGTTGT-1 &  573.4835 & 1325.0195\\\\\n",
       "\tTACTTTCAGGACTG-1 &  553.3513 & 1388.4575\\\\\n",
       "\tAACCCAAGTTAGGG-1 &  857.6451 & 1081.8535\\\\\n",
       "\tACTCAGGCCTCCAC-1 &  898.0179 & 1044.6019\\\\\n",
       "\tTTCGCTCCACACTT-1 & 1220.1276 &  701.8704\\\\\n",
       "\tTATGCGGTCGACAA-1 &  694.5063 & 1551.9726\\\\\n",
       "\\end{tabular}\n"
      ],
      "text/markdown": [
       "\n",
       "A data.frame: 6 x 2\n",
       "\n",
       "| <!--/--> | xcoord &lt;dbl&gt; | ycoord &lt;dbl&gt; |\n",
       "|---|---|---|\n",
       "| TCATATACTGTTGT-1 |  573.4835 | 1325.0195 |\n",
       "| TACTTTCAGGACTG-1 |  553.3513 | 1388.4575 |\n",
       "| AACCCAAGTTAGGG-1 |  857.6451 | 1081.8535 |\n",
       "| ACTCAGGCCTCCAC-1 |  898.0179 | 1044.6019 |\n",
       "| TTCGCTCCACACTT-1 | 1220.1276 |  701.8704 |\n",
       "| TATGCGGTCGACAA-1 |  694.5063 | 1551.9726 |\n",
       "\n"
      ],
      "text/plain": [
       "                 xcoord    ycoord   \n",
       "TCATATACTGTTGT-1  573.4835 1325.0195\n",
       "TACTTTCAGGACTG-1  553.3513 1388.4575\n",
       "AACCCAAGTTAGGG-1  857.6451 1081.8535\n",
       "ACTCAGGCCTCCAC-1  898.0179 1044.6019\n",
       "TTCGCTCCACACTT-1 1220.1276  701.8704\n",
       "TATGCGGTCGACAA-1  694.5063 1551.9726"
      ]
     },
     "metadata": {},
     "output_type": "display_data"
    }
   ],
   "source": [
    "# data.frame of beads x 2D spatial coordinate\n",
    "head(coords)"
   ]
  },
  {
   "cell_type": "code",
   "execution_count": 16,
   "metadata": {
    "tags": []
   },
   "outputs": [
    {
     "data": {
      "text/html": [
       "<style>\n",
       ".dl-inline {width: auto; margin:0; padding: 0}\n",
       ".dl-inline>dt, .dl-inline>dd {float: none; width: auto; display: inline-block}\n",
       ".dl-inline>dt::after {content: \":\\0020\"; padding-right: .5ex}\n",
       ".dl-inline>dt:not(:first-of-type) {padding-left: .5ex}\n",
       "</style><dl class=dl-inline><dt>TCATATACTGTTGT-1</dt><dd>7112</dd><dt>TACTTTCAGGACTG-1</dt><dd>6556</dd><dt>AACCCAAGTTAGGG-1</dt><dd>6177</dd><dt>ACTCAGGCCTCCAC-1</dt><dd>5896</dd><dt>TTCGCTCCACACTT-1</dt><dd>5393</dd><dt>TATGCGGTCGACAA-1</dt><dd>5246</dd></dl>\n"
      ],
      "text/latex": [
       "\\begin{description*}\n",
       "\\item[TCATATACTGTTGT-1] 7112\n",
       "\\item[TACTTTCAGGACTG-1] 6556\n",
       "\\item[AACCCAAGTTAGGG-1] 6177\n",
       "\\item[ACTCAGGCCTCCAC-1] 5896\n",
       "\\item[TTCGCTCCACACTT-1] 5393\n",
       "\\item[TATGCGGTCGACAA-1] 5246\n",
       "\\end{description*}\n"
      ],
      "text/markdown": [
       "TCATATACTGTTGT-1\n",
       ":   7112TACTTTCAGGACTG-1\n",
       ":   6556AACCCAAGTTAGGG-1\n",
       ":   6177ACTCAGGCCTCCAC-1\n",
       ":   5896TTCGCTCCACACTT-1\n",
       ":   5393TATGCGGTCGACAA-1\n",
       ":   5246\n",
       "\n"
      ],
      "text/plain": [
       "TCATATACTGTTGT-1 TACTTTCAGGACTG-1 AACCCAAGTTAGGG-1 ACTCAGGCCTCCAC-1 \n",
       "            7112             6556             6177             5896 \n",
       "TTCGCTCCACACTT-1 TATGCGGTCGACAA-1 \n",
       "            5393             5246 "
      ]
     },
     "metadata": {},
     "output_type": "display_data"
    }
   ],
   "source": [
    "# vector of nUMIs labeled by bead\n",
    "head(nUMI)"
   ]
  },
  {
   "cell_type": "code",
   "execution_count": 17,
   "metadata": {
    "tags": []
   },
   "outputs": [
    {
     "data": {
      "text/html": [
       "<table class=\"dataframe\">\n",
       "<caption>A data.frame: 6 x 17</caption>\n",
       "<thead>\n",
       "\t<tr><th></th><th scope=col>x_orig</th><th scope=col>y_orig</th><th scope=col>replicate</th><th scope=col>n_counts</th><th scope=col>n_genes</th><th scope=col>x</th><th scope=col>y</th><th scope=col>ut_HE1</th><th scope=col>Fibrosis_1</th><th scope=col>Tumor_1</th><th scope=col>ImmuneCells_1</th><th scope=col>Unidentifiable_1</th><th scope=col>n_genes_by_counts</th><th scope=col>total_counts</th><th scope=col>total_counts_mt</th><th scope=col>pct_counts_mt</th><th scope=col>leiden</th></tr>\n",
       "\t<tr><th></th><th scope=col>&lt;dbl&gt;</th><th scope=col>&lt;dbl&gt;</th><th scope=col>&lt;int&gt;</th><th scope=col>&lt;int&gt;</th><th scope=col>&lt;int&gt;</th><th scope=col>&lt;dbl&gt;</th><th scope=col>&lt;dbl&gt;</th><th scope=col>&lt;lgl&gt;</th><th scope=col>&lt;lgl&gt;</th><th scope=col>&lt;lgl&gt;</th><th scope=col>&lt;lgl&gt;</th><th scope=col>&lt;lgl&gt;</th><th scope=col>&lt;int&gt;</th><th scope=col>&lt;int&gt;</th><th scope=col>&lt;int&gt;</th><th scope=col>&lt;dbl&gt;</th><th scope=col>&lt;int&gt;</th></tr>\n",
       "</thead>\n",
       "<tbody>\n",
       "\t<tr><th scope=row>TCATATACTGTTGT-1</th><td>1486.80</td><td>1668.18</td><td>1</td><td>7112</td><td>3111</td><td> 573.4835</td><td>1325.0195</td><td>TRUE</td><td> TRUE</td><td>FALSE</td><td>FALSE</td><td>FALSE</td><td>3107</td><td>7112</td><td>313</td><td>4.401012</td><td>0</td></tr>\n",
       "\t<tr><th scope=row>TACTTTCAGGACTG-1</th><td>1524.60</td><td>1613.40</td><td>1</td><td>6556</td><td>2893</td><td> 553.3513</td><td>1388.4575</td><td>TRUE</td><td> TRUE</td><td>FALSE</td><td>FALSE</td><td>FALSE</td><td>2889</td><td>6556</td><td>360</td><td>5.491153</td><td>0</td></tr>\n",
       "\t<tr><th scope=row>AACCCAAGTTAGGG-1</th><td>1143.96</td><td>1817.64</td><td>1</td><td>6177</td><td>2815</td><td> 857.6451</td><td>1081.8535</td><td>TRUE</td><td>FALSE</td><td> TRUE</td><td> TRUE</td><td>FALSE</td><td>2813</td><td>6177</td><td>322</td><td>5.212887</td><td>0</td></tr>\n",
       "\t<tr><th scope=row>ACTCAGGCCTCCAC-1</th><td>1094.46</td><td>1841.46</td><td>1</td><td>5896</td><td>2780</td><td> 898.0179</td><td>1044.6019</td><td>TRUE</td><td>FALSE</td><td> TRUE</td><td> TRUE</td><td>FALSE</td><td>2779</td><td>5896</td><td>190</td><td>3.222524</td><td>0</td></tr>\n",
       "\t<tr><th scope=row>TTCGCTCCACACTT-1</th><td> 686.22</td><td>2075.04</td><td>1</td><td>5393</td><td>2488</td><td>1220.1276</td><td> 701.8704</td><td>TRUE</td><td> TRUE</td><td>FALSE</td><td>FALSE</td><td>FALSE</td><td>2486</td><td>5393</td><td>191</td><td>3.541628</td><td>1</td></tr>\n",
       "\t<tr><th scope=row>TATGCGGTCGACAA-1</th><td>1437.42</td><td>1415.76</td><td>1</td><td>5246</td><td>2592</td><td> 694.5063</td><td>1551.9726</td><td>TRUE</td><td>FALSE</td><td> TRUE</td><td> TRUE</td><td>FALSE</td><td>2590</td><td>5246</td><td>207</td><td>3.945864</td><td>2</td></tr>\n",
       "</tbody>\n",
       "</table>\n"
      ],
      "text/latex": [
       "A data.frame: 6 x 17\n",
       "\\begin{tabular}{r|lllllllllllllllll}\n",
       "  & x\\_orig & y\\_orig & replicate & n\\_counts & n\\_genes & x & y & ut\\_HE1 & Fibrosis\\_1 & Tumor\\_1 & ImmuneCells\\_1 & Unidentifiable\\_1 & n\\_genes\\_by\\_counts & total\\_counts & total\\_counts\\_mt & pct\\_counts\\_mt & leiden\\\\\n",
       "  & <dbl> & <dbl> & <int> & <int> & <int> & <dbl> & <dbl> & <lgl> & <lgl> & <lgl> & <lgl> & <lgl> & <int> & <int> & <int> & <dbl> & <int>\\\\\n",
       "\\hline\n",
       "\tTCATATACTGTTGT-1 & 1486.80 & 1668.18 & 1 & 7112 & 3111 &  573.4835 & 1325.0195 & TRUE &  TRUE & FALSE & FALSE & FALSE & 3107 & 7112 & 313 & 4.401012 & 0\\\\\n",
       "\tTACTTTCAGGACTG-1 & 1524.60 & 1613.40 & 1 & 6556 & 2893 &  553.3513 & 1388.4575 & TRUE &  TRUE & FALSE & FALSE & FALSE & 2889 & 6556 & 360 & 5.491153 & 0\\\\\n",
       "\tAACCCAAGTTAGGG-1 & 1143.96 & 1817.64 & 1 & 6177 & 2815 &  857.6451 & 1081.8535 & TRUE & FALSE &  TRUE &  TRUE & FALSE & 2813 & 6177 & 322 & 5.212887 & 0\\\\\n",
       "\tACTCAGGCCTCCAC-1 & 1094.46 & 1841.46 & 1 & 5896 & 2780 &  898.0179 & 1044.6019 & TRUE & FALSE &  TRUE &  TRUE & FALSE & 2779 & 5896 & 190 & 3.222524 & 0\\\\\n",
       "\tTTCGCTCCACACTT-1 &  686.22 & 2075.04 & 1 & 5393 & 2488 & 1220.1276 &  701.8704 & TRUE &  TRUE & FALSE & FALSE & FALSE & 2486 & 5393 & 191 & 3.541628 & 1\\\\\n",
       "\tTATGCGGTCGACAA-1 & 1437.42 & 1415.76 & 1 & 5246 & 2592 &  694.5063 & 1551.9726 & TRUE & FALSE &  TRUE &  TRUE & FALSE & 2590 & 5246 & 207 & 3.945864 & 2\\\\\n",
       "\\end{tabular}\n"
      ],
      "text/markdown": [
       "\n",
       "A data.frame: 6 x 17\n",
       "\n",
       "| <!--/--> | x_orig &lt;dbl&gt; | y_orig &lt;dbl&gt; | replicate &lt;int&gt; | n_counts &lt;int&gt; | n_genes &lt;int&gt; | x &lt;dbl&gt; | y &lt;dbl&gt; | ut_HE1 &lt;lgl&gt; | Fibrosis_1 &lt;lgl&gt; | Tumor_1 &lt;lgl&gt; | ImmuneCells_1 &lt;lgl&gt; | Unidentifiable_1 &lt;lgl&gt; | n_genes_by_counts &lt;int&gt; | total_counts &lt;int&gt; | total_counts_mt &lt;int&gt; | pct_counts_mt &lt;dbl&gt; | leiden &lt;int&gt; |\n",
       "|---|---|---|---|---|---|---|---|---|---|---|---|---|---|---|---|---|---|\n",
       "| TCATATACTGTTGT-1 | 1486.80 | 1668.18 | 1 | 7112 | 3111 |  573.4835 | 1325.0195 | TRUE |  TRUE | FALSE | FALSE | FALSE | 3107 | 7112 | 313 | 4.401012 | 0 |\n",
       "| TACTTTCAGGACTG-1 | 1524.60 | 1613.40 | 1 | 6556 | 2893 |  553.3513 | 1388.4575 | TRUE |  TRUE | FALSE | FALSE | FALSE | 2889 | 6556 | 360 | 5.491153 | 0 |\n",
       "| AACCCAAGTTAGGG-1 | 1143.96 | 1817.64 | 1 | 6177 | 2815 |  857.6451 | 1081.8535 | TRUE | FALSE |  TRUE |  TRUE | FALSE | 2813 | 6177 | 322 | 5.212887 | 0 |\n",
       "| ACTCAGGCCTCCAC-1 | 1094.46 | 1841.46 | 1 | 5896 | 2780 |  898.0179 | 1044.6019 | TRUE | FALSE |  TRUE |  TRUE | FALSE | 2779 | 5896 | 190 | 3.222524 | 0 |\n",
       "| TTCGCTCCACACTT-1 |  686.22 | 2075.04 | 1 | 5393 | 2488 | 1220.1276 |  701.8704 | TRUE |  TRUE | FALSE | FALSE | FALSE | 2486 | 5393 | 191 | 3.541628 | 1 |\n",
       "| TATGCGGTCGACAA-1 | 1437.42 | 1415.76 | 1 | 5246 | 2592 |  694.5063 | 1551.9726 | TRUE | FALSE |  TRUE |  TRUE | FALSE | 2590 | 5246 | 207 | 3.945864 | 2 |\n",
       "\n"
      ],
      "text/plain": [
       "                 x_orig  y_orig  replicate n_counts n_genes x         y        \n",
       "TCATATACTGTTGT-1 1486.80 1668.18 1         7112     3111     573.4835 1325.0195\n",
       "TACTTTCAGGACTG-1 1524.60 1613.40 1         6556     2893     553.3513 1388.4575\n",
       "AACCCAAGTTAGGG-1 1143.96 1817.64 1         6177     2815     857.6451 1081.8535\n",
       "ACTCAGGCCTCCAC-1 1094.46 1841.46 1         5896     2780     898.0179 1044.6019\n",
       "TTCGCTCCACACTT-1  686.22 2075.04 1         5393     2488    1220.1276  701.8704\n",
       "TATGCGGTCGACAA-1 1437.42 1415.76 1         5246     2592     694.5063 1551.9726\n",
       "                 ut_HE1 Fibrosis_1 Tumor_1 ImmuneCells_1 Unidentifiable_1\n",
       "TCATATACTGTTGT-1 TRUE    TRUE      FALSE   FALSE         FALSE           \n",
       "TACTTTCAGGACTG-1 TRUE    TRUE      FALSE   FALSE         FALSE           \n",
       "AACCCAAGTTAGGG-1 TRUE   FALSE       TRUE    TRUE         FALSE           \n",
       "ACTCAGGCCTCCAC-1 TRUE   FALSE       TRUE    TRUE         FALSE           \n",
       "TTCGCTCCACACTT-1 TRUE    TRUE      FALSE   FALSE         FALSE           \n",
       "TATGCGGTCGACAA-1 TRUE   FALSE       TRUE    TRUE         FALSE           \n",
       "                 n_genes_by_counts total_counts total_counts_mt pct_counts_mt\n",
       "TCATATACTGTTGT-1 3107              7112         313             4.401012     \n",
       "TACTTTCAGGACTG-1 2889              6556         360             5.491153     \n",
       "AACCCAAGTTAGGG-1 2813              6177         322             5.212887     \n",
       "ACTCAGGCCTCCAC-1 2779              5896         190             3.222524     \n",
       "TTCGCTCCACACTT-1 2486              5393         191             3.541628     \n",
       "TATGCGGTCGACAA-1 2590              5246         207             3.945864     \n",
       "                 leiden\n",
       "TCATATACTGTTGT-1 0     \n",
       "TACTTTCAGGACTG-1 0     \n",
       "AACCCAAGTTAGGG-1 0     \n",
       "ACTCAGGCCTCCAC-1 0     \n",
       "TTCGCTCCACACTT-1 1     \n",
       "TATGCGGTCGACAA-1 2     "
      ]
     },
     "metadata": {},
     "output_type": "display_data"
    }
   ],
   "source": [
    "# data.frame of bead metadata (beads x annotations)\n",
    "# contains columns 'bc' with values of bead names, 'x' with x-coordinate bead positions, \n",
    "# 'y' with y-coordinate bead positions, and 'nCount_RNA' with RNA counts per bead\n",
    "head(beads)"
   ]
  },
  {
   "cell_type": "code",
   "execution_count": 21,
   "metadata": {
    "tags": []
   },
   "outputs": [],
   "source": [
    "# Create the Reference input for RCTD\n",
    "reference <- Reference(sn_counts, sn_cell_types, sn_nUMI)\n",
    "saveRDS(reference, glue(\"{RCTD_dir}/RCTD_SCRef.rds\"))"
   ]
  },
  {
   "cell_type": "code",
   "execution_count": 22,
   "metadata": {
    "tags": []
   },
   "outputs": [
    {
     "name": "stdout",
     "output_type": "stream",
     "text": [
      "[1] 18107  6210\n"
     ]
    },
    {
     "data": {
      "image/png": "[encoded data removed]",
      "text/plain": [
       "Plot with title \"Histogram of log(puck@nUMI, 2)\""
      ]
     },
     "metadata": {
      "image/png": {
       "height": 420,
       "width": 420
      }
     },
     "output_type": "display_data"
    }
   ],
   "source": [
    "# Create the SpatialRNA input for RCTD\n",
    "puck <- SpatialRNA(coords, counts, nUMI)\n",
    "\n",
    "# Examine SpatialRNA object (optional)\n",
    "print(dim(puck@counts)) # observe Digital Gene Expression matrix\n",
    "hist(log(puck@nUMI,2)) # histogram of log_2 nUMI\n",
    "\n",
    "saveRDS(puck, glue(\"{RCTD_dir}/RCTD_puck.rds\"))"
   ]
  },
  {
   "cell_type": "markdown",
   "metadata": {},
   "source": [
    "##### Run RCTD"
   ]
  },
  {
   "cell_type": "code",
   "execution_count": 36,
   "metadata": {
    "collapsed": true,
    "jupyter": {
     "outputs_hidden": true
    },
    "tags": []
   },
   "outputs": [
    {
     "name": "stderr",
     "output_type": "stream",
     "text": [
      "Begin: process_cell_type_info\n",
      "\n",
      "process_cell_type_info: number of cells in reference: 9958\n",
      "\n",
      "process_cell_type_info: number of genes in reference: 25424\n",
      "\n"
     ]
    },
    {
     "name": "stdout",
     "output_type": "stream",
     "text": [
      "\n",
      "                   MBC   Endothelial_vascular             Fibroblast \n",
      "                  6913                    230                    201 \n",
      "Smooth muscle_vascular             Macrophage               B_plasma \n",
      "                    52                    851                    844 \n",
      "                     B                      T                     NK \n",
      "                    11                    841                     15 \n"
     ]
    },
    {
     "name": "stderr",
     "output_type": "stream",
     "text": [
      "Warning message in asMethod(object):\n",
      "\"sparse->dense coercion: allocating vector of size 1.3 GiB\"\n",
      "End: process_cell_type_info\n",
      "\n",
      "create.RCTD: getting regression differentially expressed genes: \n",
      "\n",
      "get_de_genes: MBC found DE genes: 285\n",
      "\n",
      "get_de_genes: Endothelial_vascular found DE genes: 361\n",
      "\n",
      "get_de_genes: Fibroblast found DE genes: 335\n",
      "\n",
      "get_de_genes: Smooth muscle_vascular found DE genes: 353\n",
      "\n",
      "get_de_genes: Macrophage found DE genes: 374\n",
      "\n",
      "get_de_genes: B_plasma found DE genes: 251\n",
      "\n",
      "get_de_genes: B found DE genes: 594\n",
      "\n",
      "get_de_genes: T found DE genes: 254\n",
      "\n",
      "get_de_genes: NK found DE genes: 506\n",
      "\n",
      "get_de_genes: total DE genes: 2608\n",
      "\n",
      "create.RCTD: getting platform effect normalization differentially expressed genes: \n",
      "\n",
      "get_de_genes: MBC found DE genes: 607\n",
      "\n",
      "get_de_genes: Endothelial_vascular found DE genes: 643\n",
      "\n",
      "get_de_genes: Fibroblast found DE genes: 601\n",
      "\n",
      "get_de_genes: Smooth muscle_vascular found DE genes: 652\n",
      "\n",
      "get_de_genes: Macrophage found DE genes: 706\n",
      "\n",
      "get_de_genes: B_plasma found DE genes: 535\n",
      "\n",
      "get_de_genes: B found DE genes: 1264\n",
      "\n",
      "get_de_genes: T found DE genes: 618\n",
      "\n",
      "get_de_genes: NK found DE genes: 1133\n",
      "\n",
      "get_de_genes: total DE genes: 4612\n",
      "\n",
      "fitBulk: decomposing bulk\n",
      "\n",
      "chooseSigma: using initial Q_mat with sigma =  1\n",
      "\n",
      "Likelihood value: 515857.531846769\n",
      "\n",
      "Sigma value:  0.84\n",
      "\n",
      "Likelihood value: 511619.845479814\n",
      "\n",
      "Sigma value:  0.69\n",
      "\n",
      "Likelihood value: 508640.112079293\n",
      "\n",
      "Sigma value:  0.61\n",
      "\n",
      "Likelihood value: 507496.873378022\n",
      "\n",
      "Sigma value:  0.53\n",
      "\n",
      "Likelihood value: 506699.523521342\n",
      "\n",
      "Sigma value:  0.45\n",
      "\n",
      "Likelihood value: 506281.438299889\n",
      "\n",
      "Sigma value:  0.42\n",
      "\n",
      "Likelihood value: 506229.805937286\n",
      "\n",
      "Sigma value:  0.42\n",
      "\n"
     ]
    }
   ],
   "source": [
    "# Get weights of cell type proportions contributing to a bead\n",
    "myRCTD <- create.RCTD(puck, reference, max_cores=4, CELL_MIN_INSTANCE=1)\n",
    "myRCTD <- run.RCTD(myRCTD, doublet_mode=\"full\")\n",
    "saveRDS(myRCTD, glue(\"{RCTD_dir}/myRCTD_full.rds\"))"
   ]
  },
  {
   "cell_type": "code",
   "execution_count": 8,
   "metadata": {
    "tags": []
   },
   "outputs": [],
   "source": [
    "myRCTD <- readRDS(glue(\"{RCTD_dir}/myRCTD_full.rds\"))"
   ]
  },
  {
   "cell_type": "code",
   "execution_count": 9,
   "metadata": {
    "tags": []
   },
   "outputs": [],
   "source": [
    "barcodes <- colnames(myRCTD@spatialRNA@counts)\n",
    "weights <- myRCTD@results$weights\n",
    "norm_weights <- normalize_weights(weights)"
   ]
  },
  {
   "cell_type": "code",
   "execution_count": 10,
   "metadata": {
    "tags": []
   },
   "outputs": [
    {
     "data": {
      "text/plain": [
       "6 x 9 Matrix of class \"dgeMatrix\"\n",
       "                       MBC Endothelial_vascular   Fibroblast\n",
       "TCATATACTGTTGT-1 0.8496681         1.356919e-02 4.061237e-02\n",
       "TACTTTCAGGACTG-1 0.8494415         1.923812e-02 2.432845e-02\n",
       "AACCCAAGTTAGGG-1 0.9216500         5.861428e-03 6.597626e-05\n",
       "ACTCAGGCCTCCAC-1 0.9656193         4.637026e-05 4.637026e-05\n",
       "TTCGCTCCACACTT-1 0.6520285         2.754596e-02 4.197606e-02\n",
       "TATGCGGTCGACAA-1 0.7677134         6.360178e-05 5.297792e-02\n",
       "                 Smooth muscle_vascular   Macrophage     B_plasma           B\n",
       "TCATATACTGTTGT-1           1.556283e-02 9.872762e-05 2.023521e-02 0.038378448\n",
       "TACTTTCAGGACTG-1           6.546704e-05 2.115546e-02 3.996458e-02 0.007270927\n",
       "AACCCAAGTTAGGG-1           6.597626e-05 2.040773e-02 8.473865e-03 0.026801403\n",
       "ACTCAGGCCTCCAC-1           4.637026e-05 1.739872e-02 4.637026e-05 0.013657834\n",
       "TTCGCTCCACACTT-1           1.195809e-02 1.093475e-01 9.764213e-02 0.038983550\n",
       "TATGCGGTCGACAA-1           3.753378e-03 2.546726e-02 6.806808e-03 0.050753942\n",
       "                            T           NK\n",
       "TCATATACTGTTGT-1 9.872762e-05 2.177635e-02\n",
       "TACTTTCAGGACTG-1 2.462531e-02 1.391015e-02\n",
       "AACCCAAGTTAGGG-1 1.317197e-02 3.501674e-03\n",
       "ACTCAGGCCTCCAC-1 4.637026e-05 3.092321e-03\n",
       "TTCGCTCCACACTT-1 9.597994e-05 2.042219e-02\n",
       "TATGCGGTCGACAA-1 9.240011e-02 6.360178e-05"
      ]
     },
     "metadata": {},
     "output_type": "display_data"
    }
   ],
   "source": [
    "head(norm_weights)"
   ]
  },
  {
   "cell_type": "code",
   "execution_count": 11,
   "metadata": {
    "tags": []
   },
   "outputs": [
    {
     "data": {
      "text/html": [
       "<table class=\"dataframe\">\n",
       "<caption>A data.frame: 6 x 1</caption>\n",
       "<thead>\n",
       "\t<tr><th></th><th scope=col>RCTD</th></tr>\n",
       "\t<tr><th></th><th scope=col>&lt;chr&gt;</th></tr>\n",
       "</thead>\n",
       "<tbody>\n",
       "\t<tr><th scope=row>TCATATACTGTTGT-1</th><td>MBC</td></tr>\n",
       "\t<tr><th scope=row>TACTTTCAGGACTG-1</th><td>MBC</td></tr>\n",
       "\t<tr><th scope=row>AACCCAAGTTAGGG-1</th><td>MBC</td></tr>\n",
       "\t<tr><th scope=row>ACTCAGGCCTCCAC-1</th><td>MBC</td></tr>\n",
       "\t<tr><th scope=row>TTCGCTCCACACTT-1</th><td>MBC</td></tr>\n",
       "\t<tr><th scope=row>TATGCGGTCGACAA-1</th><td>MBC</td></tr>\n",
       "</tbody>\n",
       "</table>\n"
      ],
      "text/latex": [
       "A data.frame: 6 x 1\n",
       "\\begin{tabular}{r|l}\n",
       "  & RCTD\\\\\n",
       "  & <chr>\\\\\n",
       "\\hline\n",
       "\tTCATATACTGTTGT-1 & MBC\\\\\n",
       "\tTACTTTCAGGACTG-1 & MBC\\\\\n",
       "\tAACCCAAGTTAGGG-1 & MBC\\\\\n",
       "\tACTCAGGCCTCCAC-1 & MBC\\\\\n",
       "\tTTCGCTCCACACTT-1 & MBC\\\\\n",
       "\tTATGCGGTCGACAA-1 & MBC\\\\\n",
       "\\end{tabular}\n"
      ],
      "text/markdown": [
       "\n",
       "A data.frame: 6 x 1\n",
       "\n",
       "| <!--/--> | RCTD &lt;chr&gt; |\n",
       "|---|---|\n",
       "| TCATATACTGTTGT-1 | MBC |\n",
       "| TACTTTCAGGACTG-1 | MBC |\n",
       "| AACCCAAGTTAGGG-1 | MBC |\n",
       "| ACTCAGGCCTCCAC-1 | MBC |\n",
       "| TTCGCTCCACACTT-1 | MBC |\n",
       "| TATGCGGTCGACAA-1 | MBC |\n",
       "\n"
      ],
      "text/plain": [
       "                 RCTD\n",
       "TCATATACTGTTGT-1 MBC \n",
       "TACTTTCAGGACTG-1 MBC \n",
       "AACCCAAGTTAGGG-1 MBC \n",
       "ACTCAGGCCTCCAC-1 MBC \n",
       "TTCGCTCCACACTT-1 MBC \n",
       "TATGCGGTCGACAA-1 MBC "
      ]
     },
     "metadata": {},
     "output_type": "display_data"
    }
   ],
   "source": [
    "# Annotate bead with max likelihood cell type\n",
    "RCTD_ct <- colnames(norm_weights)[apply(norm_weights,1,which.max)]\n",
    "RCTD_df <- data.frame(RCTD=RCTD_ct, row.names=row.names(norm_weights))\n",
    "head(RCTD_df)"
   ]
  },
  {
   "cell_type": "code",
   "execution_count": 15,
   "metadata": {
    "tags": []
   },
   "outputs": [],
   "source": [
    "# Add RCTD annotations to your metadata\n",
    "beads_df <- merge(beads, RCTD_df, by=\"row.names\", all.x=FALSE) %>% \n",
    "                `rownames<-`(.[,'Row.names']) %>%\n",
    "                rename(bc=Row.names, pos_x=x, pos_y=y) "
   ]
  },
  {
   "cell_type": "code",
   "execution_count": 19,
   "metadata": {
    "tags": []
   },
   "outputs": [],
   "source": [
    "# Annotate which RCTD cell types are normal/reference vs malignant\n",
    "beads_df$cluster_type <- 'Normal'\n",
    "beads_df[beads_df$RCTD == 'MBC',]$cluster_type <- 'Malignant' # MBC = metastatic breast cancer"
   ]
  },
  {
   "cell_type": "code",
   "execution_count": 20,
   "metadata": {
    "tags": []
   },
   "outputs": [
    {
     "data": {
      "text/html": [
       "<style>\n",
       ".list-inline {list-style: none; margin:0; padding: 0}\n",
       ".list-inline>li {display: inline-block}\n",
       ".list-inline>li:not(:last-child)::after {content: \"\\00b7\"; padding: 0 .5ex}\n",
       "</style>\n",
       "<ol class=list-inline><li>5220</li><li>20</li></ol>\n"
      ],
      "text/latex": [
       "\\begin{enumerate*}\n",
       "\\item 5220\n",
       "\\item 20\n",
       "\\end{enumerate*}\n"
      ],
      "text/markdown": [
       "1. 5220\n",
       "2. 20\n",
       "\n",
       "\n"
      ],
      "text/plain": [
       "[1] 5220   20"
      ]
     },
     "metadata": {},
     "output_type": "display_data"
    }
   ],
   "source": [
    "dim(beads_df)"
   ]
  },
  {
   "cell_type": "code",
   "execution_count": 21,
   "metadata": {
    "tags": []
   },
   "outputs": [
    {
     "data": {
      "text/html": [
       "<table class=\"dataframe\">\n",
       "<caption>A data.frame: 6 x 20</caption>\n",
       "<thead>\n",
       "\t<tr><th></th><th scope=col>bc</th><th scope=col>x_orig</th><th scope=col>y_orig</th><th scope=col>replicate</th><th scope=col>n_counts</th><th scope=col>n_genes</th><th scope=col>pos_x</th><th scope=col>pos_y</th><th scope=col>ut_HE1</th><th scope=col>Fibrosis_1</th><th scope=col>Tumor_1</th><th scope=col>ImmuneCells_1</th><th scope=col>Unidentifiable_1</th><th scope=col>n_genes_by_counts</th><th scope=col>total_counts</th><th scope=col>total_counts_mt</th><th scope=col>pct_counts_mt</th><th scope=col>leiden</th><th scope=col>RCTD</th><th scope=col>cluster_type</th></tr>\n",
       "\t<tr><th></th><th scope=col>&lt;I&lt;chr&gt;&gt;</th><th scope=col>&lt;dbl&gt;</th><th scope=col>&lt;dbl&gt;</th><th scope=col>&lt;int&gt;</th><th scope=col>&lt;int&gt;</th><th scope=col>&lt;int&gt;</th><th scope=col>&lt;dbl&gt;</th><th scope=col>&lt;dbl&gt;</th><th scope=col>&lt;lgl&gt;</th><th scope=col>&lt;lgl&gt;</th><th scope=col>&lt;lgl&gt;</th><th scope=col>&lt;lgl&gt;</th><th scope=col>&lt;lgl&gt;</th><th scope=col>&lt;int&gt;</th><th scope=col>&lt;int&gt;</th><th scope=col>&lt;int&gt;</th><th scope=col>&lt;dbl&gt;</th><th scope=col>&lt;int&gt;</th><th scope=col>&lt;chr&gt;</th><th scope=col>&lt;chr&gt;</th></tr>\n",
       "</thead>\n",
       "<tbody>\n",
       "\t<tr><th scope=row>AAAAACCTGAGAGT-1</th><td>AAAAACCTGAGAGT-1</td><td>1427.94</td><td>1695.18</td><td>1</td><td> 239</td><td>181</td><td> 621.8775</td><td>1281.990</td><td>TRUE</td><td> TRUE</td><td>FALSE</td><td>FALSE</td><td>FALSE</td><td>181</td><td> 239</td><td>10</td><td>4.184101</td><td>1</td><td>MBC</td><td>Malignant</td></tr>\n",
       "\t<tr><th scope=row>AAAAAGCCACTTAT-1</th><td>AAAAAGCCACTTAT-1</td><td>1495.14</td><td>1830.06</td><td>1</td><td> 278</td><td>231</td><td> 518.1788</td><td>1172.651</td><td>TRUE</td><td>FALSE</td><td> TRUE</td><td> TRUE</td><td>FALSE</td><td>231</td><td> 278</td><td>18</td><td>6.474820</td><td>0</td><td>MBC</td><td>Malignant</td></tr>\n",
       "\t<tr><th scope=row>AAAACACGAAGTCC-1</th><td>AAAACACGAAGTCC-1</td><td> 446.82</td><td>1154.76</td><td>1</td><td> 814</td><td>569</td><td>1718.1308</td><td>1511.945</td><td>TRUE</td><td>FALSE</td><td> TRUE</td><td> TRUE</td><td>FALSE</td><td>569</td><td> 814</td><td>30</td><td>3.685504</td><td>0</td><td>MBC</td><td>Malignant</td></tr>\n",
       "\t<tr><th scope=row>AAAACCGACTATAA-1</th><td>AAAACCGACTATAA-1</td><td>1426.56</td><td>1544.64</td><td>1</td><td> 162</td><td>140</td><td> 667.2109</td><td>1425.549</td><td>TRUE</td><td> TRUE</td><td>FALSE</td><td>FALSE</td><td>FALSE</td><td>140</td><td> 162</td><td> 3</td><td>1.851852</td><td>1</td><td>MBC</td><td>Malignant</td></tr>\n",
       "\t<tr><th scope=row>AAAACCGCACGAGC-1</th><td>AAAACCGCACGAGC-1</td><td> 635.76</td><td>1141.26</td><td>1</td><td>1062</td><td>721</td><td>1541.3936</td><td>1580.096</td><td>TRUE</td><td>FALSE</td><td>FALSE</td><td>FALSE</td><td>FALSE</td><td>720</td><td>1062</td><td>18</td><td>1.694915</td><td>0</td><td>MBC</td><td>Malignant</td></tr>\n",
       "\t<tr><th scope=row>AAAACGATGAATAT-1</th><td>AAAACGATGAATAT-1</td><td> 475.80</td><td>1207.26</td><td>1</td><td> 313</td><td>240</td><td>1675.0676</td><td>1470.212</td><td>TRUE</td><td>FALSE</td><td> TRUE</td><td> TRUE</td><td>FALSE</td><td>240</td><td> 313</td><td>28</td><td>8.945687</td><td>2</td><td>MBC</td><td>Malignant</td></tr>\n",
       "</tbody>\n",
       "</table>\n"
      ],
      "text/latex": [
       "A data.frame: 6 x 20\n",
       "\\begin{tabular}{r|llllllllllllllllllll}\n",
       "  & bc & x\\_orig & y\\_orig & replicate & n\\_counts & n\\_genes & pos\\_x & pos\\_y & ut\\_HE1 & Fibrosis\\_1 & Tumor\\_1 & ImmuneCells\\_1 & Unidentifiable\\_1 & n\\_genes\\_by\\_counts & total\\_counts & total\\_counts\\_mt & pct\\_counts\\_mt & leiden & RCTD & cluster\\_type\\\\\n",
       "  & <I<chr>> & <dbl> & <dbl> & <int> & <int> & <int> & <dbl> & <dbl> & <lgl> & <lgl> & <lgl> & <lgl> & <lgl> & <int> & <int> & <int> & <dbl> & <int> & <chr> & <chr>\\\\\n",
       "\\hline\n",
       "\tAAAAACCTGAGAGT-1 & AAAAACCTGAGAGT-1 & 1427.94 & 1695.18 & 1 &  239 & 181 &  621.8775 & 1281.990 & TRUE &  TRUE & FALSE & FALSE & FALSE & 181 &  239 & 10 & 4.184101 & 1 & MBC & Malignant\\\\\n",
       "\tAAAAAGCCACTTAT-1 & AAAAAGCCACTTAT-1 & 1495.14 & 1830.06 & 1 &  278 & 231 &  518.1788 & 1172.651 & TRUE & FALSE &  TRUE &  TRUE & FALSE & 231 &  278 & 18 & 6.474820 & 0 & MBC & Malignant\\\\\n",
       "\tAAAACACGAAGTCC-1 & AAAACACGAAGTCC-1 &  446.82 & 1154.76 & 1 &  814 & 569 & 1718.1308 & 1511.945 & TRUE & FALSE &  TRUE &  TRUE & FALSE & 569 &  814 & 30 & 3.685504 & 0 & MBC & Malignant\\\\\n",
       "\tAAAACCGACTATAA-1 & AAAACCGACTATAA-1 & 1426.56 & 1544.64 & 1 &  162 & 140 &  667.2109 & 1425.549 & TRUE &  TRUE & FALSE & FALSE & FALSE & 140 &  162 &  3 & 1.851852 & 1 & MBC & Malignant\\\\\n",
       "\tAAAACCGCACGAGC-1 & AAAACCGCACGAGC-1 &  635.76 & 1141.26 & 1 & 1062 & 721 & 1541.3936 & 1580.096 & TRUE & FALSE & FALSE & FALSE & FALSE & 720 & 1062 & 18 & 1.694915 & 0 & MBC & Malignant\\\\\n",
       "\tAAAACGATGAATAT-1 & AAAACGATGAATAT-1 &  475.80 & 1207.26 & 1 &  313 & 240 & 1675.0676 & 1470.212 & TRUE & FALSE &  TRUE &  TRUE & FALSE & 240 &  313 & 28 & 8.945687 & 2 & MBC & Malignant\\\\\n",
       "\\end{tabular}\n"
      ],
      "text/markdown": [
       "\n",
       "A data.frame: 6 x 20\n",
       "\n",
       "| <!--/--> | bc &lt;I&lt;chr&gt;&gt; | x_orig &lt;dbl&gt; | y_orig &lt;dbl&gt; | replicate &lt;int&gt; | n_counts &lt;int&gt; | n_genes &lt;int&gt; | pos_x &lt;dbl&gt; | pos_y &lt;dbl&gt; | ut_HE1 &lt;lgl&gt; | Fibrosis_1 &lt;lgl&gt; | Tumor_1 &lt;lgl&gt; | ImmuneCells_1 &lt;lgl&gt; | Unidentifiable_1 &lt;lgl&gt; | n_genes_by_counts &lt;int&gt; | total_counts &lt;int&gt; | total_counts_mt &lt;int&gt; | pct_counts_mt &lt;dbl&gt; | leiden &lt;int&gt; | RCTD &lt;chr&gt; | cluster_type &lt;chr&gt; |\n",
       "|---|---|---|---|---|---|---|---|---|---|---|---|---|---|---|---|---|---|---|---|---|\n",
       "| AAAAACCTGAGAGT-1 | AAAAACCTGAGAGT-1 | 1427.94 | 1695.18 | 1 |  239 | 181 |  621.8775 | 1281.990 | TRUE |  TRUE | FALSE | FALSE | FALSE | 181 |  239 | 10 | 4.184101 | 1 | MBC | Malignant |\n",
       "| AAAAAGCCACTTAT-1 | AAAAAGCCACTTAT-1 | 1495.14 | 1830.06 | 1 |  278 | 231 |  518.1788 | 1172.651 | TRUE | FALSE |  TRUE |  TRUE | FALSE | 231 |  278 | 18 | 6.474820 | 0 | MBC | Malignant |\n",
       "| AAAACACGAAGTCC-1 | AAAACACGAAGTCC-1 |  446.82 | 1154.76 | 1 |  814 | 569 | 1718.1308 | 1511.945 | TRUE | FALSE |  TRUE |  TRUE | FALSE | 569 |  814 | 30 | 3.685504 | 0 | MBC | Malignant |\n",
       "| AAAACCGACTATAA-1 | AAAACCGACTATAA-1 | 1426.56 | 1544.64 | 1 |  162 | 140 |  667.2109 | 1425.549 | TRUE |  TRUE | FALSE | FALSE | FALSE | 140 |  162 |  3 | 1.851852 | 1 | MBC | Malignant |\n",
       "| AAAACCGCACGAGC-1 | AAAACCGCACGAGC-1 |  635.76 | 1141.26 | 1 | 1062 | 721 | 1541.3936 | 1580.096 | TRUE | FALSE | FALSE | FALSE | FALSE | 720 | 1062 | 18 | 1.694915 | 0 | MBC | Malignant |\n",
       "| AAAACGATGAATAT-1 | AAAACGATGAATAT-1 |  475.80 | 1207.26 | 1 |  313 | 240 | 1675.0676 | 1470.212 | TRUE | FALSE |  TRUE |  TRUE | FALSE | 240 |  313 | 28 | 8.945687 | 2 | MBC | Malignant |\n",
       "\n"
      ],
      "text/plain": [
       "                 bc               x_orig  y_orig  replicate n_counts n_genes\n",
       "AAAAACCTGAGAGT-1 AAAAACCTGAGAGT-1 1427.94 1695.18 1          239     181    \n",
       "AAAAAGCCACTTAT-1 AAAAAGCCACTTAT-1 1495.14 1830.06 1          278     231    \n",
       "AAAACACGAAGTCC-1 AAAACACGAAGTCC-1  446.82 1154.76 1          814     569    \n",
       "AAAACCGACTATAA-1 AAAACCGACTATAA-1 1426.56 1544.64 1          162     140    \n",
       "AAAACCGCACGAGC-1 AAAACCGCACGAGC-1  635.76 1141.26 1         1062     721    \n",
       "AAAACGATGAATAT-1 AAAACGATGAATAT-1  475.80 1207.26 1          313     240    \n",
       "                 pos_x     pos_y    ut_HE1 Fibrosis_1 Tumor_1 ImmuneCells_1\n",
       "AAAAACCTGAGAGT-1  621.8775 1281.990 TRUE    TRUE      FALSE   FALSE        \n",
       "AAAAAGCCACTTAT-1  518.1788 1172.651 TRUE   FALSE       TRUE    TRUE        \n",
       "AAAACACGAAGTCC-1 1718.1308 1511.945 TRUE   FALSE       TRUE    TRUE        \n",
       "AAAACCGACTATAA-1  667.2109 1425.549 TRUE    TRUE      FALSE   FALSE        \n",
       "AAAACCGCACGAGC-1 1541.3936 1580.096 TRUE   FALSE      FALSE   FALSE        \n",
       "AAAACGATGAATAT-1 1675.0676 1470.212 TRUE   FALSE       TRUE    TRUE        \n",
       "                 Unidentifiable_1 n_genes_by_counts total_counts\n",
       "AAAAACCTGAGAGT-1 FALSE            181                239        \n",
       "AAAAAGCCACTTAT-1 FALSE            231                278        \n",
       "AAAACACGAAGTCC-1 FALSE            569                814        \n",
       "AAAACCGACTATAA-1 FALSE            140                162        \n",
       "AAAACCGCACGAGC-1 FALSE            720               1062        \n",
       "AAAACGATGAATAT-1 FALSE            240                313        \n",
       "                 total_counts_mt pct_counts_mt leiden RCTD cluster_type\n",
       "AAAAACCTGAGAGT-1 10              4.184101      1      MBC  Malignant   \n",
       "AAAAAGCCACTTAT-1 18              6.474820      0      MBC  Malignant   \n",
       "AAAACACGAAGTCC-1 30              3.685504      0      MBC  Malignant   \n",
       "AAAACCGACTATAA-1  3              1.851852      1      MBC  Malignant   \n",
       "AAAACCGCACGAGC-1 18              1.694915      0      MBC  Malignant   \n",
       "AAAACGATGAATAT-1 28              8.945687      2      MBC  Malignant   "
      ]
     },
     "metadata": {},
     "output_type": "display_data"
    }
   ],
   "source": [
    "head(beads_df)"
   ]
  },
  {
   "cell_type": "code",
   "execution_count": 24,
   "metadata": {
    "tags": []
   },
   "outputs": [],
   "source": [
    "# output RCTD-annotated beads\n",
    "write.table(beads_df, file.path(RCTD_dir,\"beads_df.txt\"))"
   ]
  }
 ],
 "metadata": {
  "kernelspec": {
   "display_name": "R SlideCNA",
   "language": "R",
   "name": "r_slidecna"
  },
  "language_info": {
   "codemirror_mode": "r",
   "file_extension": ".r",
   "mimetype": "text/x-r-source",
   "name": "R",
   "pygments_lexer": "r",
   "version": "4.3.1"
  }
 },
 "nbformat": 4,
 "nbformat_minor": 4
}

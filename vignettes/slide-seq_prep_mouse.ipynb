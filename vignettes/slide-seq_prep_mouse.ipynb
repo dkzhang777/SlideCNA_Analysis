{
 "cells": [
  {
   "cell_type": "markdown",
   "id": "83870de5-42d0-4aeb-a5e7-557e3a0eb739",
   "metadata": {
    "tags": []
   },
   "source": [
    "### Mouse Slide-seq Prep"
   ]
  },
  {
   "cell_type": "markdown",
   "id": "cfe118cd-ddc3-4239-b57f-641b4b0e5f0f",
   "metadata": {},
   "source": [
    "This notebooks shows how Slide-seq data is pre-processed to run slideCNA. Data comes from a healthy mouse Slide-seq sample: Stickels, Murray, et al. Nat. Biotech 2020, https://www.nature.com/articles/s41587-020-0739-1.\n",
    "\n",
    "The count data can be downloaded from https://singlecell.broadinstitute.org/single_cell/study/SCP815/highly-sensitive-spatial-transcriptomics-at-near-cellular-resolution-with-slide-seqv2#study-download (Puck_200115_08). Since the portal requires an account, no scripted download is possible. To generate the anndata object and metadata file the following files are required:\n",
    "- Puck_200115_08_bead_locations.csv\n",
    "- Puck_200115_08.digital_expression.txt"
   ]
  },
  {
   "cell_type": "code",
   "execution_count": 1,
   "id": "bd52705a-3510-4e95-adc0-a6a302877f7a",
   "metadata": {
    "tags": []
   },
   "outputs": [],
   "source": [
    "import scanpy as sc\n",
    "import pandas as pd\n",
    "import polars as pl\n",
    "import numpy as np\n",
    "import tacco as tc"
   ]
  },
  {
   "cell_type": "code",
   "execution_count": null,
   "id": "2dcaba20-6de1-4107-b885-d87b8ec2608c",
   "metadata": {},
   "outputs": [],
   "source": [
    "path_to_data <- \"path/to/data/\"\n",
    "path_to_results <- \"path/to/results/"
   ]
  },
  {
   "cell_type": "code",
   "execution_count": 3,
   "id": "da82d9cc-3e04-492f-8101-b5fbed4602a5",
   "metadata": {
    "tags": []
   },
   "outputs": [
    {
     "data": {
      "text/plain": [
       "AnnData object with n_obs × n_vars = 53208 × 23264"
      ]
     },
     "execution_count": 3,
     "metadata": {},
     "output_type": "execute_result"
    }
   ],
   "source": [
    "adata = sc.read_text(path_to_data + 'Puck_200115_08.digital_expression.txt', first_column_names=False)\n",
    "adata = adata.T\n",
    "adata"
   ]
  },
  {
   "cell_type": "code",
   "execution_count": 4,
   "id": "ecf1eee3-ee5a-4424-9b4f-a5f3ef2985b5",
   "metadata": {
    "tags": []
   },
   "outputs": [
    {
     "data": {
      "text/plain": [
       "AnnData object with n_obs × n_vars = 10114 × 15856"
      ]
     },
     "execution_count": 4,
     "metadata": {},
     "output_type": "execute_result"
    }
   ],
   "source": [
    "# Filter and subsample (optional)\n",
    "adata = tc.pp.filter(adata, min_genes_per_cell=700, min_cells_per_gene=15, return_view=False)\n",
    "# sc.pp.subsample(adata, fraction=0.4) #remove for full-run\n",
    "adata"
   ]
  },
  {
   "cell_type": "code",
   "execution_count": 5,
   "id": "ecf655dc-074b-43c2-8d86-912cca62cb42",
   "metadata": {
    "tags": []
   },
   "outputs": [],
   "source": [
    "adata.var[\"mt\"] = adata.var_names.str.startswith(\"MT-\")\n",
    "sc.pp.calculate_qc_metrics(adata, qc_vars=[\"mt\"], percent_top=None, log1p=False, inplace=True)"
   ]
  },
  {
   "cell_type": "code",
   "execution_count": 6,
   "id": "bc037c22-bb74-4167-a1d3-b8ee502e89d1",
   "metadata": {
    "tags": []
   },
   "outputs": [],
   "source": [
    "# Read spatial information\n",
    "df = pd.read_csv(path_to_data + 'Puck_200115_08_bead_locations.csv', sep='\\s+|,', engine='python')\n",
    "df.set_index('barcodes', drop=False, inplace=True)\n",
    "df.rename(columns={'xcoord':'pos_x', 'ycoord':'pos_y'}, inplace=True)"
   ]
  },
  {
   "cell_type": "code",
   "execution_count": 7,
   "id": "afadfc43-5e35-407e-b822-f62b9f1eef0e",
   "metadata": {
    "tags": []
   },
   "outputs": [],
   "source": [
    "adata.obs['pos_x']=df['pos_x']\n",
    "adata.obs['pos_y']=df['pos_y']\n",
    "\n",
    "adata.obsm['counts'] = adata.X # Helper function expects raw counts in .obsm\n",
    "adata.uns['counts_var'] = adata.var.index.to_numpy() # Helper function expects gene names under .uns\n",
    "adata.obs['nCount_RNA'] = adata.X.sum(axis=1)\n",
    "\n",
    "# Set 25% of the data as non-malignant reference\n",
    "adata.obs['cluster_type'] = 'Malignant'\n",
    "reference_index = adata.obs.sample(frac=0.25).index\n",
    "adata.obs.loc[reference_index, 'cluster_type'] = 'Normal'\n",
    "\n",
    "adata.obs['bc'] = adata.obs_names"
   ]
  },
  {
   "cell_type": "code",
   "execution_count": 8,
   "id": "4a94951f-9d99-4f59-9cb2-edf1cbf4ae6d",
   "metadata": {
    "tags": []
   },
   "outputs": [
    {
     "data": {
      "text/plain": [
       "AnnData object with n_obs × n_vars = 10114 × 15856\n",
       "    obs: 'n_genes_by_counts', 'total_counts', 'total_counts_mt', 'pct_counts_mt', 'pos_x', 'pos_y', 'nCount_RNA', 'cluster_type', 'bc'\n",
       "    var: 'mt', 'n_cells_by_counts', 'mean_counts', 'pct_dropout_by_counts', 'total_counts'\n",
       "    uns: 'counts_var'\n",
       "    obsm: 'counts'"
      ]
     },
     "execution_count": 8,
     "metadata": {},
     "output_type": "execute_result"
    }
   ],
   "source": [
    "# Write-out metadata (beads_df) and adata\n",
    "adata.obs.to_csv(path_to_results + 'beads_df.csv',)\n",
    "adata.write(path_to_results + 'Puck.h5ad')\n",
    "adata"
   ]
  },
  {
   "cell_type": "markdown",
   "id": "329750a4-bcce-45de-b440-f9ce6e3ebd97",
   "metadata": {},
   "source": [
    "Next, prepare genomic positions file. The base file can be downloaded here: https://data.broadinstitute.org/Trinity/CTAT/cnv/ where we need the *mouse_gencode.GRCm39.vM32.basic.annotation.by_gene_name.infercnv_positions* file (mouse). Further information regarding this file can be found under https://github.com/broadinstitute/inferCNV/wiki/File-Definitions. "
   ]
  },
  {
   "cell_type": "code",
   "execution_count": 17,
   "id": "37caa5f5-d1ec-4c4b-bcda-3afa3f44a19c",
   "metadata": {
    "tags": []
   },
   "outputs": [
    {
     "data": {
      "text/html": [
       "<div><style>\n",
       ".dataframe > thead > tr,\n",
       ".dataframe > tbody > tr {\n",
       "  text-align: right;\n",
       "  white-space: pre-wrap;\n",
       "}\n",
       "</style>\n",
       "<small>shape: (56_805, 4)</small><table border=\"1\" class=\"dataframe\"><thead><tr><th>column_1</th><th>column_2</th><th>column_3</th><th>column_4</th></tr><tr><td>str</td><td>str</td><td>i64</td><td>i64</td></tr></thead><tbody><tr><td>&quot;4933401J01Rik&quot;</td><td>&quot;chr1&quot;</td><td>3143476</td><td>3144545</td></tr><tr><td>&quot;Gm26206&quot;</td><td>&quot;chr1&quot;</td><td>3172239</td><td>3172348</td></tr><tr><td>&quot;Xkr4&quot;</td><td>&quot;chr1&quot;</td><td>3276124</td><td>3741721</td></tr><tr><td>&quot;Gm18956&quot;</td><td>&quot;chr1&quot;</td><td>3322980</td><td>3323459</td></tr><tr><td>&quot;Gm37180&quot;</td><td>&quot;chr1&quot;</td><td>3435954</td><td>3438772</td></tr><tr><td>&hellip;</td><td>&hellip;</td><td>&hellip;</td><td>&hellip;</td></tr><tr><td>&quot;mt-Nd6&quot;</td><td>&quot;chrM&quot;</td><td>13552</td><td>14070</td></tr><tr><td>&quot;mt-Te&quot;</td><td>&quot;chrM&quot;</td><td>14071</td><td>14139</td></tr><tr><td>&quot;mt-Cytb&quot;</td><td>&quot;chrM&quot;</td><td>14145</td><td>15288</td></tr><tr><td>&quot;mt-Tt&quot;</td><td>&quot;chrM&quot;</td><td>15289</td><td>15355</td></tr><tr><td>&quot;mt-Tp&quot;</td><td>&quot;chrM&quot;</td><td>15356</td><td>15422</td></tr></tbody></table></div>"
      ],
      "text/plain": [
       "shape: (56_805, 4)\n",
       "┌───────────────┬──────────┬──────────┬──────────┐\n",
       "│ column_1      ┆ column_2 ┆ column_3 ┆ column_4 │\n",
       "│ ---           ┆ ---      ┆ ---      ┆ ---      │\n",
       "│ str           ┆ str      ┆ i64      ┆ i64      │\n",
       "╞═══════════════╪══════════╪══════════╪══════════╡\n",
       "│ 4933401J01Rik ┆ chr1     ┆ 3143476  ┆ 3144545  │\n",
       "│ Gm26206       ┆ chr1     ┆ 3172239  ┆ 3172348  │\n",
       "│ Xkr4          ┆ chr1     ┆ 3276124  ┆ 3741721  │\n",
       "│ Gm18956       ┆ chr1     ┆ 3322980  ┆ 3323459  │\n",
       "│ Gm37180       ┆ chr1     ┆ 3435954  ┆ 3438772  │\n",
       "│ …             ┆ …        ┆ …        ┆ …        │\n",
       "│ mt-Nd6        ┆ chrM     ┆ 13552    ┆ 14070    │\n",
       "│ mt-Te         ┆ chrM     ┆ 14071    ┆ 14139    │\n",
       "│ mt-Cytb       ┆ chrM     ┆ 14145    ┆ 15288    │\n",
       "│ mt-Tt         ┆ chrM     ┆ 15289    ┆ 15355    │\n",
       "│ mt-Tp         ┆ chrM     ┆ 15356    ┆ 15422    │\n",
       "└───────────────┴──────────┴──────────┴──────────┘"
      ]
     },
     "execution_count": 17,
     "metadata": {},
     "output_type": "execute_result"
    }
   ],
   "source": [
    "df = pl.read_csv(path_to_data + 'mouse_gencode.GRCm39.vM32.basic.annotation.by_gene_name.infercnv_positions.csv', has_header=False)\n",
    "df"
   ]
  },
  {
   "cell_type": "code",
   "execution_count": 18,
   "id": "eddb652b-c465-440c-b0db-46ebda85b4f9",
   "metadata": {
    "tags": []
   },
   "outputs": [
    {
     "data": {
      "text/html": [
       "<div><style>\n",
       ".dataframe > thead > tr,\n",
       ".dataframe > tbody > tr {\n",
       "  text-align: right;\n",
       "  white-space: pre-wrap;\n",
       "}\n",
       "</style>\n",
       "<small>shape: (56_805, 5)</small><table border=\"1\" class=\"dataframe\"><thead><tr><th>GENE</th><th>chr</th><th>start</th><th>end</th><th>rel_gene_pos</th></tr><tr><td>str</td><td>str</td><td>i64</td><td>i64</td><td>u32</td></tr></thead><tbody><tr><td>&quot;4933401J01Rik&quot;</td><td>&quot;chr1&quot;</td><td>3143476</td><td>3144545</td><td>1</td></tr><tr><td>&quot;Gm26206&quot;</td><td>&quot;chr1&quot;</td><td>3172239</td><td>3172348</td><td>2</td></tr><tr><td>&quot;Xkr4&quot;</td><td>&quot;chr1&quot;</td><td>3276124</td><td>3741721</td><td>3</td></tr><tr><td>&quot;Gm18956&quot;</td><td>&quot;chr1&quot;</td><td>3322980</td><td>3323459</td><td>4</td></tr><tr><td>&quot;Gm37180&quot;</td><td>&quot;chr1&quot;</td><td>3435954</td><td>3438772</td><td>5</td></tr><tr><td>&hellip;</td><td>&hellip;</td><td>&hellip;</td><td>&hellip;</td><td>&hellip;</td></tr><tr><td>&quot;mt-Nd6&quot;</td><td>&quot;chrM&quot;</td><td>13552</td><td>14070</td><td>33</td></tr><tr><td>&quot;mt-Te&quot;</td><td>&quot;chrM&quot;</td><td>14071</td><td>14139</td><td>34</td></tr><tr><td>&quot;mt-Cytb&quot;</td><td>&quot;chrM&quot;</td><td>14145</td><td>15288</td><td>35</td></tr><tr><td>&quot;mt-Tt&quot;</td><td>&quot;chrM&quot;</td><td>15289</td><td>15355</td><td>36</td></tr><tr><td>&quot;mt-Tp&quot;</td><td>&quot;chrM&quot;</td><td>15356</td><td>15422</td><td>37</td></tr></tbody></table></div>"
      ],
      "text/plain": [
       "shape: (56_805, 5)\n",
       "┌───────────────┬──────┬─────────┬─────────┬──────────────┐\n",
       "│ GENE          ┆ chr  ┆ start   ┆ end     ┆ rel_gene_pos │\n",
       "│ ---           ┆ ---  ┆ ---     ┆ ---     ┆ ---          │\n",
       "│ str           ┆ str  ┆ i64     ┆ i64     ┆ u32          │\n",
       "╞═══════════════╪══════╪═════════╪═════════╪══════════════╡\n",
       "│ 4933401J01Rik ┆ chr1 ┆ 3143476 ┆ 3144545 ┆ 1            │\n",
       "│ Gm26206       ┆ chr1 ┆ 3172239 ┆ 3172348 ┆ 2            │\n",
       "│ Xkr4          ┆ chr1 ┆ 3276124 ┆ 3741721 ┆ 3            │\n",
       "│ Gm18956       ┆ chr1 ┆ 3322980 ┆ 3323459 ┆ 4            │\n",
       "│ Gm37180       ┆ chr1 ┆ 3435954 ┆ 3438772 ┆ 5            │\n",
       "│ …             ┆ …    ┆ …       ┆ …       ┆ …            │\n",
       "│ mt-Nd6        ┆ chrM ┆ 13552   ┆ 14070   ┆ 33           │\n",
       "│ mt-Te         ┆ chrM ┆ 14071   ┆ 14139   ┆ 34           │\n",
       "│ mt-Cytb       ┆ chrM ┆ 14145   ┆ 15288   ┆ 35           │\n",
       "│ mt-Tt         ┆ chrM ┆ 15289   ┆ 15355   ┆ 36           │\n",
       "│ mt-Tp         ┆ chrM ┆ 15356   ┆ 15422   ┆ 37           │\n",
       "└───────────────┴──────┴─────────┴─────────┴──────────────┘"
      ]
     },
     "execution_count": 18,
     "metadata": {},
     "output_type": "execute_result"
    }
   ],
   "source": [
    "df = df.rename({'column_1':'GENE','column_2':'chr','column_3':'start','column_4':'end'})\n",
    "df = df.with_columns(\n",
    "   pl.col('chr').cum_count().over(['chr']).alias(\"rel_gene_pos\")\n",
    ")\n",
    "df"
   ]
  },
  {
   "cell_type": "code",
   "execution_count": 19,
   "id": "6ca52a2d-7682-4c65-bf75-e0937eaec8b5",
   "metadata": {
    "tags": []
   },
   "outputs": [],
   "source": [
    "df.write_csv(path_to_results + 'mouse_gencode.GRCm39.vM32.basic.annotation.by_gene_name.infercnv_positions_rel_gene_pos.csv', )"
   ]
  }
 ],
 "metadata": {
  "kernelspec": {
   "display_name": "Python [conda env:bead_split_env]",
   "language": "python",
   "name": "conda-env-bead_split_env-py"
  },
  "language_info": {
   "codemirror_mode": {
    "name": "ipython",
    "version": 3
   },
   "file_extension": ".py",
   "mimetype": "text/x-python",
   "name": "python",
   "nbconvert_exporter": "python",
   "pygments_lexer": "ipython3",
   "version": "3.11.11"
  }
 },
 "nbformat": 4,
 "nbformat_minor": 5
}
